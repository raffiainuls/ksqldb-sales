{
 "cells": [
  {
   "cell_type": "code",
   "execution_count": null,
   "metadata": {},
   "outputs": [],
   "source": [
    "import json \n",
    "import pandas as pd\n",
    "from confluent_kafka import Producer\n",
    "\n",
    "KAFKA_BROKER = \"localhost:9092\"\n",
    "TOPIC_NAME = \"tbl_product2\"\n",
    "\n",
    "Producer_conf = {'bootstrap.servers': KAFKA_BROKER}\n",
    "Producer = Producer(Producer_conf)\n",
    "\n",
    "df_product = pd.read_csv(\"df_product.csv\")\n",
    "product_data = []\n",
    "\n",
    "for _, row in df_product.iterrows():\n",
    "    modified_time = None if pd.isna(row[\"modified_time\"]) else row[\"modified_time\"]\n",
    "\n",
    "    payload = {\n",
    "        \"id\": row[\"id\"],\n",
    "        \"product_name\": row[\"product_name\"],\n",
    "        \"category\": row[\"category\"],\n",
    "        \"sub_category\": row[\"sub_category\"],\n",
    "        \"price\": row[\"price\"],\n",
    "        \"profit\": row[\"profit\"],\n",
    "        \"stock\": row[\"stock\"],\n",
    "        \"created_time\": row[\"created_time\"],\n",
    "        \"modified_time\": modified_time\n",
    "    }\n",
    "\n",
    "    schema = {\n",
    "        \"schema\": {  # Perbaikan dari \"shema\" ❌\n",
    "            \"fields\": [\n",
    "                {\"type\": \"int32\", \"optional\": False, \"field\": \"id\"},\n",
    "                {\"type\": \"string\", \"optional\": False, \"field\": \"product_name\"},\n",
    "                {\"type\": \"string\", \"optional\": False, \"field\": \"category\"},\n",
    "                {\"type\": \"string\", \"optional\": False, \"field\": \"sub_category\"},\n",
    "                {\"type\": \"int32\", \"optional\": False, \"field\": \"price\"},\n",
    "                {\"type\": \"int32\", \"optional\": False, \"field\": \"profit\"},\n",
    "                {\"type\": \"int32\", \"optional\": False, \"field\": \"stock\"},\n",
    "                {\"type\": \"string\", \"optional\": False, \"field\": \"created_time\"},\n",
    "                {\"type\": \"string\", \"optional\": True, \"field\": \"modified_time\"}\n",
    "            ],\n",
    "            \"optional\": False,\n",
    "            \"name\": \"tbl_product\",\n",
    "            \"type\": \"struct\"\n",
    "        },\n",
    "        \"payload\": payload\n",
    "    }\n",
    "    product_data.append(schema)\n",
    "\n",
    "def delivery_report(err, msg):\n",
    "    if err is not None:\n",
    "        print(f\"❌ Gagal mengirim pesan: {err}\")\n",
    "    else:\n",
    "        print(f\"✅ Data dikirim ke Kafka: {msg.topic()} [{msg.partition()}]\")\n",
    "\n",
    "for record in product_data:\n",
    "    Producer.produce(TOPIC_NAME, json.dumps(record).encode(\"utf-8\"), callback=delivery_report)\n",
    "\n",
    "Producer.flush()\n"
   ]
  },
  {
   "cell_type": "code",
   "execution_count": 2,
   "metadata": {},
   "outputs": [],
   "source": [
    "import pandas as pd"
   ]
  },
  {
   "cell_type": "code",
   "execution_count": 7,
   "metadata": {},
   "outputs": [
    {
     "data": {
      "text/html": [
       "<div>\n",
       "<style scoped>\n",
       "    .dataframe tbody tr th:only-of-type {\n",
       "        vertical-align: middle;\n",
       "    }\n",
       "\n",
       "    .dataframe tbody tr th {\n",
       "        vertical-align: top;\n",
       "    }\n",
       "\n",
       "    .dataframe thead th {\n",
       "        text-align: right;\n",
       "    }\n",
       "</style>\n",
       "<table border=\"1\" class=\"dataframe\">\n",
       "  <thead>\n",
       "    <tr style=\"text-align: right;\">\n",
       "      <th></th>\n",
       "      <th>id</th>\n",
       "      <th>name</th>\n",
       "      <th>created_time</th>\n",
       "    </tr>\n",
       "  </thead>\n",
       "  <tbody>\n",
       "    <tr>\n",
       "      <th>0</th>\n",
       "      <td>2</td>\n",
       "      <td>done</td>\n",
       "      <td>2025-03-03</td>\n",
       "    </tr>\n",
       "    <tr>\n",
       "      <th>1</th>\n",
       "      <td>1</td>\n",
       "      <td>ongoing</td>\n",
       "      <td>2025-03-03</td>\n",
       "    </tr>\n",
       "  </tbody>\n",
       "</table>\n",
       "</div>"
      ],
      "text/plain": [
       "   id     name created_time\n",
       "0   2     done   2025-03-03\n",
       "1   1  ongoing   2025-03-03"
      ]
     },
     "execution_count": 7,
     "metadata": {},
     "output_type": "execute_result"
    }
   ],
   "source": [
    "df_order_status = pd.read_csv(\"df_order_status.csv\")\n",
    "df_order_status"
   ]
  }
 ],
 "metadata": {
  "kernelspec": {
   "display_name": "Python 3",
   "language": "python",
   "name": "python3"
  },
  "language_info": {
   "codemirror_mode": {
    "name": "ipython",
    "version": 3
   },
   "file_extension": ".py",
   "mimetype": "text/x-python",
   "name": "python",
   "nbconvert_exporter": "python",
   "pygments_lexer": "ipython3",
   "version": "3.12.4"
  }
 },
 "nbformat": 4,
 "nbformat_minor": 2
}
